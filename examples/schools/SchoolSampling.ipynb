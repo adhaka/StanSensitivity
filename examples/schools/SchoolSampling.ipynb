{
 "cells": [
  {
   "cell_type": "code",
   "execution_count": 1,
   "metadata": {},
   "outputs": [
    {
     "name": "stderr",
     "output_type": "stream",
     "text": [
      "Loading required package: ggplot2\n",
      "Loading required package: StanHeaders\n",
      "rstan (Version 2.17.3, GitRev: 2e1f913d3ca3)\n",
      "For execution on a local, multicore CPU with excess RAM we recommend calling\n",
      "options(mc.cores = parallel::detectCores()).\n",
      "To avoid recompilation of unchanged Stan programs, we recommend calling\n",
      "rstan_options(auto_write = TRUE)\n",
      "Loading required package: dplyr\n",
      "\n",
      "Attaching package: ‘dplyr’\n",
      "\n",
      "The following objects are masked from ‘package:stats’:\n",
      "\n",
      "    filter, lag\n",
      "\n",
      "The following objects are masked from ‘package:base’:\n",
      "\n",
      "    intersect, setdiff, setequal, union\n",
      "\n",
      "Loading required package: reshape2\n"
     ]
    }
   ],
   "source": [
    "library(rstan)\n",
    "library(rstansensitivity)\n",
    "\n",
    "library(ggplot2)\n",
    "library(dplyr)\n",
    "library(reshape2)\n",
    "\n",
    "rstan_options(auto_write=TRUE)\n",
    "\n",
    "# Set this to be the appropriate location of the repo on your computer.\n",
    "# Run from anywhere in the StanSensitivity repository.\n",
    "git_repo <- system(\"git rev-parse --show-toplevel\", intern=TRUE)\n",
    "example_dir <- file.path(git_repo, \"examples/schools/\")\n",
    "model_name <- GenerateSensitivityFromModel(\n",
    "  file.path(example_dir, \"models/schools-1.stan\"))"
   ]
  },
  {
   "cell_type": "code",
   "execution_count": null,
   "metadata": {},
   "outputs": [
    {
     "name": "stdout",
     "output_type": "stream",
     "text": [
      "In file included from /usr/local/lib/R/site-library/BH/include/boost/config.hpp:39:0,\n",
      "                 from /usr/local/lib/R/site-library/BH/include/boost/math/tools/config.hpp:13,\n",
      "                 from /usr/local/lib/R/site-library/StanHeaders/include/stan/math/rev/core/var.hpp:7,\n",
      "                 from /usr/local/lib/R/site-library/StanHeaders/include/stan/math/rev/core/gevv_vvv_vari.hpp:5,\n",
      "                 from /usr/local/lib/R/site-library/StanHeaders/include/stan/math/rev/core.hpp:12,\n",
      "                 from /usr/local/lib/R/site-library/StanHeaders/include/stan/math/rev/mat.hpp:4,\n",
      "                 from /usr/local/lib/R/site-library/StanHeaders/include/stan/math.hpp:4,\n",
      "                 from /usr/local/lib/R/site-library/StanHeaders/include/src/stan/model/model_header.hpp:4,\n",
      "                 from file279c376a013c.cpp:8:\n",
      "/usr/local/lib/R/site-library/BH/include/boost/config/compiler/gcc.hpp:186:0: warning: \"BOOST_NO_CXX11_RVALUE_REFERENCES\" redefined\n",
      " #  define BOOST_NO_CXX11_RVALUE_REFERENCES\n",
      " ^\n",
      "<command-line>:0:0: note: this is the location of the previous definition\n"
     ]
    }
   ],
   "source": [
    "model <- stan_model(GetSamplingModelFilename(model_name))\n",
    "\n",
    "# Load the data and hyperparameters.\n",
    "stan_data <- new.env()\n",
    "source(paste(example_dir, \"schools-1.data.R\", sep=\"\"), local=stan_data)\n",
    "stan_data <- as.list(stan_data)\n",
    "\n",
    "stan_sensitivity_list <- GetStanSensitivityModel(model_name, stan_data)\n",
    "sens_result <- GetStanSensitivityFromModelFit(sampling_result, stan_sensitivity_list)"
   ]
  },
  {
   "cell_type": "code",
   "execution_count": null,
   "metadata": {
    "collapsed": true
   },
   "outputs": [],
   "source": [
    "num_samples <- 5000\n",
    "sampling_file <- paste(model_name, \"_sampling.Rdata\", sep=\"\")\n",
    "if (!file.exists(sampling_file)) {\n",
    "  print(\"Running sampler.\")\n",
    "  sampling_time <- time.time()\n",
    "  sampling_result <-\n",
    "    sampling(model, data=stan_data, chains=1, iter=num_samples)\n",
    "  sampling_time <- time.time() - sampling_time\n",
    "  save(sampling_result, sampling_result, sampling_time,\n",
    "       file=sampling_file)\n",
    "} else {\n",
    "  print(sprintf(\"Loading cached samples from %s\", sampling_file))\n",
    "  load(sampling_file)  \n",
    "}"
   ]
  },
  {
   "cell_type": "code",
   "execution_count": null,
   "metadata": {
    "collapsed": true
   },
   "outputs": [],
   "source": [
    "print(summary(sampling_result))\n",
    "\n",
    "tidy_results <- GetTidyResult(sens_result)\n",
    "PlotSensitivities(filter(tidy_results, abs(normalized_sensitivity)  > 1.0))\n",
    "PlotSensitivities(filter(tidy_results, grepl(\"beta\", parameter)))"
   ]
  },
  {
   "cell_type": "code",
   "execution_count": null,
   "metadata": {
    "collapsed": true
   },
   "outputs": [],
   "source": [
    "perturb_par <- \"R.3.3\"\n",
    "epsilon <- 0.1\n",
    "\n",
    "# Check that the perturbation is big enough that we expect to produce\n",
    "# a measurable difference in the output.\n",
    "se_mean <- summary(sampling_result)$summary[, \"se_mean\"]\n",
    "min_epsilon <- 2.0 * min(se_mean / abs(sens_result$sens_mat[perturb_par, ]))\n",
    "if (epsilon < min_epsilon) {\n",
    "  warning(\"The expected change is less than twice the mean standard error for every parameter.\")\n",
    "}\n"
   ]
  },
  {
   "cell_type": "code",
   "execution_count": null,
   "metadata": {
    "collapsed": true
   },
   "outputs": [],
   "source": [
    "# Re-run MCMC\n",
    "stan_data_perturb <- stan_data\n",
    "stan_data_perturb[[\"R\"]][3, 3] <- stan_data_perturb[[\"R\"]][3, 3] + epsilon\n",
    "perturbed_sampling_file <- paste(model_name, \"_perturbed_sampling.Rdata\", sep=\"\")\n",
    "if (!file.exists(perturbed_sampling_file)) {\n",
    "  print(\"Running sampler.\")\n",
    "  sampling_time_perturb <- time.time()\n",
    "  sampling_result_perturb <- sampling(model, data=stan_data_perturb, chains=1,\n",
    "                                      iter=num_samples)\n",
    "  sampling_time_perturb <- time.time() - sampling_time_perturb\n",
    "  save(sampling_result_perturb, stan_data_perturb, sampling_time_perturb,\n",
    "       file=perturbed_sampling_file)\n",
    "} else {\n",
    "  print(sprintf(\"Loading cached perturbed samples from %s\", perturbed_sampling_file))\n",
    "  load(perturbed_sampling_file)  \n",
    "}"
   ]
  }
 ],
 "metadata": {
  "kernelspec": {
   "display_name": "R",
   "language": "R",
   "name": "ir"
  },
  "language_info": {
   "codemirror_mode": "r",
   "file_extension": ".r",
   "mimetype": "text/x-r-source",
   "name": "R",
   "pygments_lexer": "r",
   "version": "3.4.4"
  }
 },
 "nbformat": 4,
 "nbformat_minor": 2
}
