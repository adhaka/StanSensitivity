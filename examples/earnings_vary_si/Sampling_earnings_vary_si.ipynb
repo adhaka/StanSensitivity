{
 "cells": [
  {
   "cell_type": "code",
   "execution_count": 1,
   "metadata": {},
   "outputs": [
    {
     "name": "stderr",
     "output_type": "stream",
     "text": [
      "Loading required package: StanHeaders\n",
      "rstan (Version 2.17.3, GitRev: 2e1f913d3ca3)\n",
      "For execution on a local, multicore CPU with excess RAM we recommend calling\n",
      "options(mc.cores = parallel::detectCores()).\n",
      "To avoid recompilation of unchanged Stan programs, we recommend calling\n",
      "rstan_options(auto_write = TRUE)\n",
      "Loading required package: dplyr\n",
      "\n",
      "Attaching package: ‘dplyr’\n",
      "\n",
      "The following object is masked from ‘package:gridExtra’:\n",
      "\n",
      "    combine\n",
      "\n",
      "The following objects are masked from ‘package:stats’:\n",
      "\n",
      "    filter, lag\n",
      "\n",
      "The following objects are masked from ‘package:base’:\n",
      "\n",
      "    intersect, setdiff, setequal, union\n",
      "\n",
      "Loading required package: reshape2\n"
     ]
    }
   ],
   "source": [
    "library(ggplot2)\n",
    "library(gridExtra)\n",
    "library(rstan)\n",
    "library(rstansensitivity)\n",
    "\n",
    "rstan_options(auto_write=TRUE)\n",
    "options(warn=1) # Display Stan warnings as they occur.\n",
    "set.seed(42) # For reproducibility"
   ]
  },
  {
   "cell_type": "code",
   "execution_count": 2,
   "metadata": {
    "collapsed": true
   },
   "outputs": [],
   "source": [
    "git_repo_loc <- system(\"git rev-parse --show-toplevel\", intern=TRUE)\n",
    "example_path <- file.path(git_repo_loc, \"examples/earnings_vary_si\")\n",
    "\n",
    "base_model_name <- file.path(example_path, \"models/earnings_vary_si.stan\")\n",
    "data_path <- file.path(example_path, \"earnings_vary_si.data.R\")\n",
    "\n",
    "# Load the data into a list and set sampling parameters.\n",
    "stan_data <- new.env()\n",
    "source(data_path, local=stan_data)\n",
    "stan_data <- as.list(stan_data)\n",
    "\n",
    "iters <- 10000\n",
    "adapt_delta <- 0.99"
   ]
  },
  {
   "cell_type": "code",
   "execution_count": 3,
   "metadata": {},
   "outputs": [
    {
     "name": "stdout",
     "output_type": "stream",
     "text": [
      "In file included from /usr/local/lib/R/site-library/BH/include/boost/config.hpp:39:0,\n",
      "                 from /usr/local/lib/R/site-library/BH/include/boost/math/tools/config.hpp:13,\n",
      "                 from /usr/local/lib/R/site-library/StanHeaders/include/stan/math/rev/core/var.hpp:7,\n",
      "                 from /usr/local/lib/R/site-library/StanHeaders/include/stan/math/rev/core/gevv_vvv_vari.hpp:5,\n",
      "                 from /usr/local/lib/R/site-library/StanHeaders/include/stan/math/rev/core.hpp:12,\n",
      "                 from /usr/local/lib/R/site-library/StanHeaders/include/stan/math/rev/mat.hpp:4,\n",
      "                 from /usr/local/lib/R/site-library/StanHeaders/include/stan/math.hpp:4,\n",
      "                 from /usr/local/lib/R/site-library/StanHeaders/include/src/stan/model/model_header.hpp:4,\n",
      "                 from file24505a82e2f.cpp:8:\n",
      "/usr/local/lib/R/site-library/BH/include/boost/config/compiler/gcc.hpp:186:0: warning: \"BOOST_NO_CXX11_RVALUE_REFERENCES\" redefined\n",
      " #  define BOOST_NO_CXX11_RVALUE_REFERENCES\n",
      " ^\n",
      "<command-line>:0:0: note: this is the location of the previous definition\n",
      "In file included from /usr/local/lib/R/site-library/BH/include/boost/config.hpp:39:0,\n",
      "                 from /usr/local/lib/R/site-library/BH/include/boost/math/tools/config.hpp:13,\n",
      "                 from /usr/local/lib/R/site-library/StanHeaders/include/stan/math/rev/core/var.hpp:7,\n",
      "                 from /usr/local/lib/R/site-library/StanHeaders/include/stan/math/rev/core/gevv_vvv_vari.hpp:5,\n",
      "                 from /usr/local/lib/R/site-library/StanHeaders/include/stan/math/rev/core.hpp:12,\n",
      "                 from /usr/local/lib/R/site-library/StanHeaders/include/stan/math/rev/mat.hpp:4,\n",
      "                 from /usr/local/lib/R/site-library/StanHeaders/include/stan/math.hpp:4,\n",
      "                 from /usr/local/lib/R/site-library/StanHeaders/include/src/stan/model/model_header.hpp:4,\n",
      "                 from file24506b3c6090.cpp:8:\n",
      "/usr/local/lib/R/site-library/BH/include/boost/config/compiler/gcc.hpp:186:0: warning: \"BOOST_NO_CXX11_RVALUE_REFERENCES\" redefined\n",
      " #  define BOOST_NO_CXX11_RVALUE_REFERENCES\n",
      " ^\n",
      "<command-line>:0:0: note: this is the location of the previous definition\n",
      "\n",
      "SAMPLING FOR MODEL 'earnings_vary_si_sensitivity_parameters' NOW (CHAIN 1).\n",
      "Iteration: 1 / 1 [100%]  (Sampling)\n",
      "\n",
      " Elapsed Time: 0 seconds (Warm-up)\n",
      "               1.2e-05 seconds (Sampling)\n",
      "               1.2e-05 seconds (Total)\n",
      "\n",
      "\n",
      "SAMPLING FOR MODEL 'earnings_vary_si_generated' NOW (CHAIN 1).\n",
      "Iteration: 1 / 1 [100%]  (Sampling)\n",
      "\n",
      " Elapsed Time: 0 seconds (Warm-up)\n",
      "               1e-05 seconds (Sampling)\n",
      "               1e-05 seconds (Total)\n",
      "\n",
      "In file included from /usr/local/lib/R/site-library/BH/include/boost/config.hpp:39:0,\n",
      "                 from /usr/local/lib/R/site-library/BH/include/boost/math/tools/config.hpp:13,\n",
      "                 from /usr/local/lib/R/site-library/StanHeaders/include/stan/math/rev/core/var.hpp:7,\n",
      "                 from /usr/local/lib/R/site-library/StanHeaders/include/stan/math/rev/core/gevv_vvv_vari.hpp:5,\n",
      "                 from /usr/local/lib/R/site-library/StanHeaders/include/stan/math/rev/core.hpp:12,\n",
      "                 from /usr/local/lib/R/site-library/StanHeaders/include/stan/math/rev/mat.hpp:4,\n",
      "                 from /usr/local/lib/R/site-library/StanHeaders/include/stan/math.hpp:4,\n",
      "                 from /usr/local/lib/R/site-library/StanHeaders/include/src/stan/model/model_header.hpp:4,\n",
      "                 from file2450349fb698.cpp:8:\n",
      "/usr/local/lib/R/site-library/BH/include/boost/config/compiler/gcc.hpp:186:0: warning: \"BOOST_NO_CXX11_RVALUE_REFERENCES\" redefined\n",
      " #  define BOOST_NO_CXX11_RVALUE_REFERENCES\n",
      " ^\n",
      "<command-line>:0:0: note: this is the location of the previous definition\n",
      "\n",
      "SAMPLING FOR MODEL 'earnings_vary_si_sensitivity' NOW (CHAIN 1).\n",
      "Iteration: 1 / 1 [100%]  (Sampling)\n",
      "\n",
      " Elapsed Time: 0 seconds (Warm-up)\n",
      "               1.2e-05 seconds (Sampling)\n",
      "               1.2e-05 seconds (Total)\n",
      "\n"
     ]
    }
   ],
   "source": [
    "# Compile the models.\n",
    "model_name <- GenerateSensitivityFromModel(base_model_name)\n",
    "model <- stan_model(paste(model_name, \"_generated.stan\", sep=\"\"))\n",
    "stan_sensitivity_list <- GetStanSensitivityModel(model_name, stan_data)"
   ]
  },
  {
   "cell_type": "code",
   "execution_count": 4,
   "metadata": {},
   "outputs": [
    {
     "name": "stdout",
     "output_type": "stream",
     "text": [
      "\n",
      "SAMPLING FOR MODEL 'earnings_vary_si_generated' NOW (CHAIN 1).\n",
      "\n",
      "Gradient evaluation took 6.8e-05 seconds\n",
      "1000 transitions using 10 leapfrog steps per transition would take 0.68 seconds.\n",
      "Adjust your expectations accordingly!\n",
      "\n",
      "\n",
      "Iteration:    1 / 10000 [  0%]  (Warmup)\n",
      "Iteration: 1000 / 10000 [ 10%]  (Warmup)\n",
      "Iteration: 2000 / 10000 [ 20%]  (Warmup)\n",
      "Iteration: 3000 / 10000 [ 30%]  (Warmup)\n",
      "Iteration: 4000 / 10000 [ 40%]  (Warmup)\n",
      "Iteration: 5000 / 10000 [ 50%]  (Warmup)\n",
      "Iteration: 5001 / 10000 [ 50%]  (Sampling)\n",
      "Iteration: 6000 / 10000 [ 60%]  (Sampling)\n",
      "Iteration: 7000 / 10000 [ 70%]  (Sampling)\n",
      "Iteration: 8000 / 10000 [ 80%]  (Sampling)\n",
      "Iteration: 9000 / 10000 [ 90%]  (Sampling)\n",
      "Iteration: 10000 / 10000 [100%]  (Sampling)\n",
      "\n",
      " Elapsed Time: 67.5529 seconds (Warm-up)\n",
      "               89.0353 seconds (Sampling)\n",
      "               156.588 seconds (Total)\n",
      "\n"
     ]
    },
    {
     "name": "stderr",
     "output_type": "stream",
     "text": [
      "Warning message:\n",
      "“There were 4 divergent transitions after warmup. Increasing adapt_delta above 0.99 may help. See\n",
      "http://mc-stan.org/misc/warnings.html#divergent-transitions-after-warmup”Warning message:\n",
      "“There were 1 transitions after warmup that exceeded the maximum treedepth. Increase max_treedepth above 10. See\n",
      "http://mc-stan.org/misc/warnings.html#maximum-treedepth-exceeded”Warning message:\n",
      "“Examine the pairs() plot to diagnose sampling problems\n",
      "”"
     ]
    },
    {
     "name": "stdout",
     "output_type": "stream",
     "text": [
      "Time difference of 2.610455 mins\n"
     ]
    }
   ],
   "source": [
    "# Run the sampler.\n",
    "sampling_time <- Sys.time()\n",
    "sampling_result <- sampling(\n",
    "  model, data=stan_data, iter=iters, chains=1, control=list(adapt_delta=adapt_delta))\n",
    "sampling_time <- Sys.time() - sampling_time\n",
    "print(sampling_time)"
   ]
  },
  {
   "cell_type": "code",
   "execution_count": 5,
   "metadata": {},
   "outputs": [
    {
     "name": "stdout",
     "output_type": "stream",
     "text": [
      "Evaluating model at the MCMC draws for chain  1 .\n",
      "  |======================================================================| 100%\n"
     ]
    },
    {
     "name": "stderr",
     "output_type": "stream",
     "text": [
      "Warning message in mcmcse::mcse.multi(arg_draws):\n",
      "“You either need more samples or x is not full column rank”Warning message in mcmcse::mcse.multi(arg_draws):\n",
      "“You either need more samples or x is not full column rank”Warning message in log(sig.eigen):\n",
      "“NaNs produced”Warning message in mcmcse::mcse.multi(par_draws):\n",
      "“You either need more samples or x is not full column rank”Warning message in log(sig.eigen):\n",
      "“NaNs produced”Warning message in mcmcse::mcse.multi(par_draws):\n",
      "“You either need more samples or x is not full column rank”Warning message in log(sig.eigen):\n",
      "“NaNs produced”Warning message in mcmcse::mcse.multi(par_draws):\n",
      "“You either need more samples or x is not full column rank”Warning message in log(sig.eigen):\n",
      "“NaNs produced”"
     ]
    },
    {
     "name": "stdout",
     "output_type": "stream",
     "text": [
      "Time difference of 7.467873 secs\n"
     ]
    }
   ],
   "source": [
    "# Calculate the sensitivity.\n",
    "sens_time <- Sys.time()\n",
    "sens_result <- GetStanSensitivityFromModelFit(sampling_result, stan_sensitivity_list)\n",
    "tidy_results <- GetTidyResult(sens_result)\n",
    "sens_time <- Sys.time() - sens_time\n",
    "print(sens_time)"
   ]
  },
  {
   "cell_type": "code",
   "execution_count": 6,
   "metadata": {},
   "outputs": [
    {
     "data": {},
     "metadata": {},
     "output_type": "display_data"
    },
    {
     "data": {
      "image/png": "[encoded data removed]",
      "text/plain": [
       "plot without title"
      ]
     },
     "metadata": {},
     "output_type": "display_data"
    }
   ],
   "source": [
    "PlotSensitivities(tidy_results)"
   ]
  },
  {
   "cell_type": "code",
   "execution_count": 7,
   "metadata": {
    "collapsed": true
   },
   "outputs": [],
   "source": [
    "# Refit with a range of values for the hyperparameter.\n",
    "StanResultToDataframe <- function(sampling_result) {\n",
    "  sampling_df <- data.frame(summary(sampling_result)$summary)\n",
    "  sampling_df$parameter <- make.names(rownames(sampling_df))\n",
    "  return(sampling_df)\n",
    "}\n",
    "\n",
    "hyperparam_name <- \"mu_a2_scale\"\n",
    "num_refits <- 10\n",
    "hyperparam_min_offset <- -0.8\n",
    "hyperparam_max_offset <- 1.0\n",
    "\n",
    "hyperparam_vals <- seq(stan_data[[hyperparam_name]] + hyperparam_min_offset,\n",
    "                     stan_data[[hyperparam_name]] + hyperparam_max_offset,\n",
    "                     length.out=num_refits)"
   ]
  },
  {
   "cell_type": "code",
   "execution_count": null,
   "metadata": {
    "scrolled": false
   },
   "outputs": [
    {
     "name": "stdout",
     "output_type": "stream",
     "text": [
      "Value: 0.200000\n",
      "SAMPLING FOR MODEL 'earnings_vary_si_generated' NOW (CHAIN 1).\n",
      "\n",
      "Gradient evaluation took 5.7e-05 seconds\n",
      "1000 transitions using 10 leapfrog steps per transition would take 0.57 seconds.\n",
      "Adjust your expectations accordingly!\n",
      "\n",
      "\n",
      "Iteration:    1 / 10000 [  0%]  (Warmup)\n",
      "Iteration: 1000 / 10000 [ 10%]  (Warmup)\n",
      "Iteration: 2000 / 10000 [ 20%]  (Warmup)\n",
      "Iteration: 3000 / 10000 [ 30%]  (Warmup)\n",
      "Iteration: 4000 / 10000 [ 40%]  (Warmup)\n",
      "Iteration: 5000 / 10000 [ 50%]  (Warmup)\n",
      "Iteration: 5001 / 10000 [ 50%]  (Sampling)\n",
      "Iteration: 6000 / 10000 [ 60%]  (Sampling)\n",
      "Iteration: 7000 / 10000 [ 70%]  (Sampling)\n",
      "Iteration: 8000 / 10000 [ 80%]  (Sampling)\n",
      "Iteration: 9000 / 10000 [ 90%]  (Sampling)\n",
      "Iteration: 10000 / 10000 [100%]  (Sampling)\n",
      "\n",
      " Elapsed Time: 71.4119 seconds (Warm-up)\n",
      "               87.2203 seconds (Sampling)\n",
      "               158.632 seconds (Total)\n",
      "\n"
     ]
    },
    {
     "name": "stderr",
     "output_type": "stream",
     "text": [
      "Warning message:\n",
      "“There were 1 divergent transitions after warmup. Increasing adapt_delta above 0.99 may help. See\n",
      "http://mc-stan.org/misc/warnings.html#divergent-transitions-after-warmup”Warning message:\n",
      "“Examine the pairs() plot to diagnose sampling problems\n",
      "”"
     ]
    },
    {
     "name": "stdout",
     "output_type": "stream",
     "text": [
      "Value: 0.400000\n",
      "SAMPLING FOR MODEL 'earnings_vary_si_generated' NOW (CHAIN 1).\n",
      "\n",
      "Gradient evaluation took 5.2e-05 seconds\n",
      "1000 transitions using 10 leapfrog steps per transition would take 0.52 seconds.\n",
      "Adjust your expectations accordingly!\n",
      "\n",
      "\n",
      "Iteration:    1 / 10000 [  0%]  (Warmup)\n",
      "Iteration: 1000 / 10000 [ 10%]  (Warmup)\n",
      "Iteration: 2000 / 10000 [ 20%]  (Warmup)\n",
      "Iteration: 3000 / 10000 [ 30%]  (Warmup)\n",
      "Iteration: 4000 / 10000 [ 40%]  (Warmup)\n",
      "Iteration: 5000 / 10000 [ 50%]  (Warmup)\n",
      "Iteration: 5001 / 10000 [ 50%]  (Sampling)\n",
      "Iteration: 6000 / 10000 [ 60%]  (Sampling)\n",
      "Iteration: 7000 / 10000 [ 70%]  (Sampling)\n",
      "Iteration: 8000 / 10000 [ 80%]  (Sampling)\n",
      "Iteration: 9000 / 10000 [ 90%]  (Sampling)\n",
      "Iteration: 10000 / 10000 [100%]  (Sampling)\n",
      "\n",
      " Elapsed Time: 71.5995 seconds (Warm-up)\n",
      "               53.0101 seconds (Sampling)\n",
      "               124.61 seconds (Total)\n",
      "\n",
      "Value: 0.600000\n",
      "SAMPLING FOR MODEL 'earnings_vary_si_generated' NOW (CHAIN 1).\n",
      "\n",
      "Gradient evaluation took 4.9e-05 seconds\n",
      "1000 transitions using 10 leapfrog steps per transition would take 0.49 seconds.\n",
      "Adjust your expectations accordingly!\n",
      "\n",
      "\n",
      "Iteration:    1 / 10000 [  0%]  (Warmup)\n",
      "Iteration: 1000 / 10000 [ 10%]  (Warmup)\n",
      "Iteration: 2000 / 10000 [ 20%]  (Warmup)\n",
      "Iteration: 3000 / 10000 [ 30%]  (Warmup)\n",
      "Iteration: 4000 / 10000 [ 40%]  (Warmup)\n",
      "Iteration: 5000 / 10000 [ 50%]  (Warmup)\n",
      "Iteration: 5001 / 10000 [ 50%]  (Sampling)\n",
      "Iteration: 6000 / 10000 [ 60%]  (Sampling)\n",
      "Iteration: 7000 / 10000 [ 70%]  (Sampling)\n",
      "Iteration: 8000 / 10000 [ 80%]  (Sampling)\n",
      "Iteration: 9000 / 10000 [ 90%]  (Sampling)\n",
      "Iteration: 10000 / 10000 [100%]  (Sampling)\n",
      "\n",
      " Elapsed Time: 67.0007 seconds (Warm-up)\n",
      "               49.8298 seconds (Sampling)\n",
      "               116.831 seconds (Total)\n",
      "\n"
     ]
    },
    {
     "name": "stderr",
     "output_type": "stream",
     "text": [
      "Warning message:\n",
      "“There were 3 divergent transitions after warmup. Increasing adapt_delta above 0.99 may help. See\n",
      "http://mc-stan.org/misc/warnings.html#divergent-transitions-after-warmup”Warning message:\n",
      "“Examine the pairs() plot to diagnose sampling problems\n",
      "”"
     ]
    },
    {
     "name": "stdout",
     "output_type": "stream",
     "text": [
      "Value: 0.800000\n",
      "SAMPLING FOR MODEL 'earnings_vary_si_generated' NOW (CHAIN 1).\n",
      "\n",
      "Gradient evaluation took 4.6e-05 seconds\n",
      "1000 transitions using 10 leapfrog steps per transition would take 0.46 seconds.\n",
      "Adjust your expectations accordingly!\n",
      "\n",
      "\n",
      "Iteration:    1 / 10000 [  0%]  (Warmup)\n",
      "Iteration: 1000 / 10000 [ 10%]  (Warmup)\n",
      "Iteration: 2000 / 10000 [ 20%]  (Warmup)\n",
      "Iteration: 3000 / 10000 [ 30%]  (Warmup)\n",
      "Iteration: 4000 / 10000 [ 40%]  (Warmup)\n",
      "Iteration: 5000 / 10000 [ 50%]  (Warmup)\n",
      "Iteration: 5001 / 10000 [ 50%]  (Sampling)\n",
      "Iteration: 6000 / 10000 [ 60%]  (Sampling)\n",
      "Iteration: 7000 / 10000 [ 70%]  (Sampling)\n",
      "Iteration: 8000 / 10000 [ 80%]  (Sampling)\n",
      "Iteration: 9000 / 10000 [ 90%]  (Sampling)\n",
      "Iteration: 10000 / 10000 [100%]  (Sampling)\n",
      "\n",
      " Elapsed Time: 64.2768 seconds (Warm-up)\n",
      "               92.9485 seconds (Sampling)\n",
      "               157.225 seconds (Total)\n",
      "\n"
     ]
    },
    {
     "name": "stderr",
     "output_type": "stream",
     "text": [
      "Warning message:\n",
      "“There were 1 divergent transitions after warmup. Increasing adapt_delta above 0.99 may help. See\n",
      "http://mc-stan.org/misc/warnings.html#divergent-transitions-after-warmup”Warning message:\n",
      "“Examine the pairs() plot to diagnose sampling problems\n",
      "”"
     ]
    }
   ],
   "source": [
    "summary_list <- list()\n",
    "sampling_result_list <- list()\n",
    "refit_time <- Sys.time()\n",
    "for (val in hyperparam_vals) {\n",
    "    cat(sprintf(\"Value: %f\", val))\n",
    "    stan_data_perturbed <- stan_data\n",
    "    stan_data_perturbed[[hyperparam_name]] <- val\n",
    "    sampling_result_perturbed <-\n",
    "      sampling(model, data=stan_data_perturbed, iter=iters, chains=1,\n",
    "               control=list(adapt_delta=adapt_delta))\n",
    "    sampling_result_list[[length(sampling_result_list) + 1]] <- sampling_result_perturbed\n",
    "    sens_summary_peturbed <-\n",
    "      StanResultToDataframe(sampling_result_perturbed) %>%\n",
    "      mutate(hyperparameter=hyperparam_name, hyperparameter_val=val)\n",
    "    summary_list[[length(summary_list) + 1]] <- sens_summary_peturbed\n",
    "}\n",
    "refit_time <- Sys.time() - refit_time\n",
    "\n"
   ]
  },
  {
   "cell_type": "code",
   "execution_count": null,
   "metadata": {},
   "outputs": [],
   "source": [
    "print(\"Refit time: \")\n",
    "print(refit_time)"
   ]
  },
  {
   "cell_type": "code",
   "execution_count": null,
   "metadata": {},
   "outputs": [],
   "source": [
    "perturbed_df <-\n",
    "    do.call(rbind, summary_list) %>%\n",
    "    inner_join(tidy_results, by=c(\"parameter\", \"hyperparameter\")) %>%\n",
    "    inner_join(StanResultToDataframe(sampling_result),\n",
    "               by=\"parameter\", suffix=c(\"\", \".orig\"))"
   ]
  },
  {
   "cell_type": "markdown",
   "metadata": {},
   "source": [
    "Our later analysis will motivate the following \"corrected\" model.  In order to run all the sampling in a single worksheet, we include this code here."
   ]
  },
  {
   "cell_type": "code",
   "execution_count": null,
   "metadata": {},
   "outputs": [],
   "source": [
    "fixed_base_model_name <- file.path(example_path, \"models/earnings_vary_si_corrected.stan\")\n",
    "fixed_model_name <- GenerateSensitivityFromModel(fixed_base_model_name)\n",
    "fixed_model <- stan_model(paste(fixed_model_name, \"_generated.stan\", sep=\"\"))\n",
    "fixed_stan_sensitivity_list <- GetStanSensitivityModel(fixed_model_name, stan_data)"
   ]
  },
  {
   "cell_type": "code",
   "execution_count": null,
   "metadata": {
    "collapsed": true
   },
   "outputs": [],
   "source": [
    "fixed_stan_data <- new.env()\n",
    "source(data_path, local=fixed_stan_data)\n",
    "fixed_stan_data <- as.list(fixed_stan_data)\n",
    "fixed_stan_data$mu_a1_scale <- 10\n",
    "fixed_stan_data$mu_a2_scale <- 10\n",
    "\n",
    "fixed_stan_data$sigma_a1_scale <- 10\n",
    "fixed_stan_data$sigma_a2_scale <- 10\n",
    "\n",
    "fixed_sampling_result <- sampling(\n",
    "  model, data=fixed_stan_data, iter=iters,\n",
    "  chains=1, control=list(adapt_delta=adapt_delta))"
   ]
  },
  {
   "cell_type": "code",
   "execution_count": null,
   "metadata": {
    "collapsed": true
   },
   "outputs": [],
   "source": [
    "fixed_sens_result <- GetStanSensitivityFromModelFit(fixed_sampling_result, stan_sensitivity_list)\n",
    "fixed_tidy_results <- GetTidyResult(fixed_sens_result)"
   ]
  },
  {
   "cell_type": "code",
   "execution_count": null,
   "metadata": {},
   "outputs": [],
   "source": [
    "refit_filename <- file.path(example_path, \"earnings_vary_si_refit_results.Rdata\")\n",
    "cat(\"Saving to\\n\", refit_filename, \"\\n\")\n",
    "save(model_name, tidy_results, stan_data, fixed_stan_data,\n",
    "     perturbed_df, summary_list,\n",
    "     sampling_result,\n",
    "     sampling_result_list,\n",
    "     fixed_sampling_result, fixed_tidy_results,\n",
    "     sampling_time, sens_time, refit_time,\n",
    "     hyperparam_name, hyperparam_vals,\n",
    "     file=refit_filename)"
   ]
  }
 ],
 "metadata": {
  "kernelspec": {
   "display_name": "R",
   "language": "R",
   "name": "ir"
  },
  "language_info": {
   "codemirror_mode": "r",
   "file_extension": ".r",
   "mimetype": "text/x-r-source",
   "name": "R",
   "pygments_lexer": "r",
   "version": "3.4.4"
  }
 },
 "nbformat": 4,
 "nbformat_minor": 2
}
