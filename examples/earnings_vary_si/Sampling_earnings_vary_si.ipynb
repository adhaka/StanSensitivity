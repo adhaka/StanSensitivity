{
 "cells": [
  {
   "cell_type": "code",
   "execution_count": 1,
   "metadata": {},
   "outputs": [
    {
     "name": "stderr",
     "output_type": "stream",
     "text": [
      "Loading required package: StanHeaders\n",
      "rstan (Version 2.16.2, packaged: 2017-07-03 09:24:58 UTC, GitRev: 2e1f913d3ca3)\n",
      "For execution on a local, multicore CPU with excess RAM we recommend calling\n",
      "rstan_options(auto_write = TRUE)\n",
      "options(mc.cores = parallel::detectCores())\n",
      "Loading required package: dplyr\n",
      "\n",
      "Attaching package: ‘dplyr’\n",
      "\n",
      "The following object is masked from ‘package:gridExtra’:\n",
      "\n",
      "    combine\n",
      "\n",
      "The following objects are masked from ‘package:stats’:\n",
      "\n",
      "    filter, lag\n",
      "\n",
      "The following objects are masked from ‘package:base’:\n",
      "\n",
      "    intersect, setdiff, setequal, union\n",
      "\n",
      "Loading required package: reshape2\n"
     ]
    }
   ],
   "source": [
    "library(ggplot2)\n",
    "library(gridExtra)\n",
    "library(rstan)\n",
    "library(rstansensitivity)\n",
    "\n",
    "rstan_options(auto_write=TRUE)\n",
    "options(warn=1) # Display Stan warnings as they occur."
   ]
  },
  {
   "cell_type": "code",
   "execution_count": 2,
   "metadata": {},
   "outputs": [],
   "source": [
    "git_repo_loc <- system(\"git rev-parse --show-toplevel\", intern=TRUE)\n",
    "example_path <- file.path(git_repo_loc, \"examples/earnings_vary_si\")\n",
    "python_script <- file.path(git_repo_loc, \"../StanSensitivity/python/generate_models.py\")\n",
    "\n",
    "base_model_name <- file.path(example_path, \"models/earnings_vary_si.stan\")\n",
    "data_path <- file.path(example_path, \"earnings_vary_si.data.R\")\n",
    "\n",
    "\n",
    "# Load the data into a list and set sampling parameters.\n",
    "stan_data <- new.env()\n",
    "source(data_path, local=stan_data)\n",
    "stan_data <- as.list(stan_data)\n",
    "\n",
    "iters <- 10000\n",
    "adapt_delta <- 0.99"
   ]
  },
  {
   "cell_type": "code",
   "execution_count": 3,
   "metadata": {},
   "outputs": [
    {
     "name": "stderr",
     "output_type": "stream",
     "text": [
      "recompiling to avoid crashing R session\n"
     ]
    },
    {
     "name": "stdout",
     "output_type": "stream",
     "text": [
      "In file included from /usr/local/lib/R/site-library/BH/include/boost/config.hpp:39:0,\n",
      "                 from /usr/local/lib/R/site-library/BH/include/boost/math/tools/config.hpp:13,\n",
      "                 from /usr/local/lib/R/site-library/StanHeaders/include/stan/math/rev/core/var.hpp:7,\n",
      "                 from /usr/local/lib/R/site-library/StanHeaders/include/stan/math/rev/core/gevv_vvv_vari.hpp:5,\n",
      "                 from /usr/local/lib/R/site-library/StanHeaders/include/stan/math/rev/core.hpp:12,\n",
      "                 from /usr/local/lib/R/site-library/StanHeaders/include/stan/math/rev/mat.hpp:4,\n",
      "                 from /usr/local/lib/R/site-library/StanHeaders/include/stan/math.hpp:4,\n",
      "                 from /usr/local/lib/R/site-library/StanHeaders/include/src/stan/model/model_header.hpp:4,\n",
      "                 from file3ea5650c3676.cpp:8:\n",
      "/usr/local/lib/R/site-library/BH/include/boost/config/compiler/gcc.hpp:186:0: warning: \"BOOST_NO_CXX11_RVALUE_REFERENCES\" redefined\n",
      " #  define BOOST_NO_CXX11_RVALUE_REFERENCES\n",
      " ^\n",
      "<command-line>:0:0: note: this is the location of the previous definition\n"
     ]
    },
    {
     "name": "stderr",
     "output_type": "stream",
     "text": [
      "recompiling to avoid crashing R session\n"
     ]
    },
    {
     "name": "stdout",
     "output_type": "stream",
     "text": [
      "In file included from /usr/local/lib/R/site-library/BH/include/boost/config.hpp:39:0,\n",
      "                 from /usr/local/lib/R/site-library/BH/include/boost/math/tools/config.hpp:13,\n",
      "                 from /usr/local/lib/R/site-library/StanHeaders/include/stan/math/rev/core/var.hpp:7,\n",
      "                 from /usr/local/lib/R/site-library/StanHeaders/include/stan/math/rev/core/gevv_vvv_vari.hpp:5,\n",
      "                 from /usr/local/lib/R/site-library/StanHeaders/include/stan/math/rev/core.hpp:12,\n",
      "                 from /usr/local/lib/R/site-library/StanHeaders/include/stan/math/rev/mat.hpp:4,\n",
      "                 from /usr/local/lib/R/site-library/StanHeaders/include/stan/math.hpp:4,\n",
      "                 from /usr/local/lib/R/site-library/StanHeaders/include/src/stan/model/model_header.hpp:4,\n",
      "                 from file3ea55c292458.cpp:8:\n",
      "/usr/local/lib/R/site-library/BH/include/boost/config/compiler/gcc.hpp:186:0: warning: \"BOOST_NO_CXX11_RVALUE_REFERENCES\" redefined\n",
      " #  define BOOST_NO_CXX11_RVALUE_REFERENCES\n",
      " ^\n",
      "<command-line>:0:0: note: this is the location of the previous definition\n",
      "\n",
      "SAMPLING FOR MODEL 'earnings_vary_si_sensitivity_parameters' NOW (CHAIN 1).\n",
      "Iteration: 1 / 1 [100%]  (Sampling)\n",
      "\n",
      " Elapsed Time: 0 seconds (Warm-up)\n",
      "               1e-05 seconds (Sampling)\n",
      "               1e-05 seconds (Total)\n",
      "\n",
      "\n",
      "SAMPLING FOR MODEL 'earnings_vary_si_generated' NOW (CHAIN 1).\n",
      "Iteration: 1 / 1 [100%]  (Sampling)\n",
      "\n",
      " Elapsed Time: 0 seconds (Warm-up)\n",
      "               9e-06 seconds (Sampling)\n",
      "               9e-06 seconds (Total)\n",
      "\n",
      "Copying parameter 'a1' from the sampler\n",
      "Copying parameter 'a2' from the sampler\n",
      "Copying parameter 'sigma_a1' from the sampler\n",
      "Copying parameter 'sigma_a2' from the sampler\n",
      "Copying parameter 'sigma_y' from the sampler\n",
      "Copying parameter 'mu_a1' from the sampler\n",
      "Copying parameter 'mu_a2' from the sampler\n",
      "Copying hyperparameter 'mu_a1_loc' from the data block.\n",
      "Copying hyperparameter 'mu_a1_scale' from the data block.\n",
      "Copying hyperparameter 'mu_a2_loc' from the data block.\n",
      "Copying hyperparameter 'mu_a2_scale' from the data block.\n",
      "Copying hyperparameter 'sigma_a1_loc' from the data block.\n",
      "Copying hyperparameter 'sigma_a1_scale' from the data block.\n",
      "Copying hyperparameter 'sigma_a2_loc' from the data block.\n",
      "Copying hyperparameter 'sigma_a2_scale' from the data block.\n",
      "Copying hyperparameter 'sigma_y_loc' from the data block.\n",
      "Copying hyperparameter 'sigma_y_scale' from the data block.\n"
     ]
    },
    {
     "name": "stderr",
     "output_type": "stream",
     "text": [
      "recompiling to avoid crashing R session\n"
     ]
    },
    {
     "name": "stdout",
     "output_type": "stream",
     "text": [
      "In file included from /usr/local/lib/R/site-library/BH/include/boost/config.hpp:39:0,\n",
      "                 from /usr/local/lib/R/site-library/BH/include/boost/math/tools/config.hpp:13,\n",
      "                 from /usr/local/lib/R/site-library/StanHeaders/include/stan/math/rev/core/var.hpp:7,\n",
      "                 from /usr/local/lib/R/site-library/StanHeaders/include/stan/math/rev/core/gevv_vvv_vari.hpp:5,\n",
      "                 from /usr/local/lib/R/site-library/StanHeaders/include/stan/math/rev/core.hpp:12,\n",
      "                 from /usr/local/lib/R/site-library/StanHeaders/include/stan/math/rev/mat.hpp:4,\n",
      "                 from /usr/local/lib/R/site-library/StanHeaders/include/stan/math.hpp:4,\n",
      "                 from /usr/local/lib/R/site-library/StanHeaders/include/src/stan/model/model_header.hpp:4,\n",
      "                 from file3ea51119ad89.cpp:8:\n",
      "/usr/local/lib/R/site-library/BH/include/boost/config/compiler/gcc.hpp:186:0: warning: \"BOOST_NO_CXX11_RVALUE_REFERENCES\" redefined\n",
      " #  define BOOST_NO_CXX11_RVALUE_REFERENCES\n",
      " ^\n",
      "<command-line>:0:0: note: this is the location of the previous definition\n",
      "\n",
      "SAMPLING FOR MODEL 'earnings_vary_si_sensitivity' NOW (CHAIN 1).\n",
      "Iteration: 1 / 1 [100%]  (Sampling)\n",
      "\n",
      " Elapsed Time: 0 seconds (Warm-up)\n",
      "               1e-05 seconds (Sampling)\n",
      "               1e-05 seconds (Total)\n",
      "\n"
     ]
    }
   ],
   "source": [
    "# Compile the models.\n",
    "model_name <- GenerateSensitivityFromModel(base_model_name, python_script=python_script)\n",
    "model <- stan_model(paste(model_name, \"_generated.stan\", sep=\"\"))\n",
    "stan_sensitivity_list <- GetStanSensitivityModel(model_name, stan_data)"
   ]
  },
  {
   "cell_type": "code",
   "execution_count": 4,
   "metadata": {},
   "outputs": [
    {
     "name": "stdout",
     "output_type": "stream",
     "text": [
      "\n",
      "SAMPLING FOR MODEL 'earnings_vary_si_generated' NOW (CHAIN 1).\n",
      "\n",
      "Gradient evaluation took 6.4e-05 seconds\n",
      "1000 transitions using 10 leapfrog steps per transition would take 0.64 seconds.\n",
      "Adjust your expectations accordingly!\n",
      "\n",
      "\n",
      "Iteration:    1 / 10000 [  0%]  (Warmup)\n",
      "Iteration: 1000 / 10000 [ 10%]  (Warmup)\n",
      "Iteration: 2000 / 10000 [ 20%]  (Warmup)\n",
      "Iteration: 3000 / 10000 [ 30%]  (Warmup)\n",
      "Iteration: 4000 / 10000 [ 40%]  (Warmup)\n",
      "Iteration: 5000 / 10000 [ 50%]  (Warmup)\n",
      "Iteration: 5001 / 10000 [ 50%]  (Sampling)\n",
      "Iteration: 6000 / 10000 [ 60%]  (Sampling)\n",
      "Iteration: 7000 / 10000 [ 70%]  (Sampling)\n",
      "Iteration: 8000 / 10000 [ 80%]  (Sampling)\n",
      "Iteration: 9000 / 10000 [ 90%]  (Sampling)\n",
      "Iteration: 10000 / 10000 [100%]  (Sampling)\n",
      "\n",
      " Elapsed Time: 66.6453 seconds (Warm-up)\n",
      "               72.4481 seconds (Sampling)\n",
      "               139.093 seconds (Total)\n",
      "\n"
     ]
    },
    {
     "name": "stderr",
     "output_type": "stream",
     "text": [
      "Warning message:\n",
      "“There were 2 divergent transitions after warmup. Increasing adapt_delta above 0.99 may help. See\n",
      "http://mc-stan.org/misc/warnings.html#divergent-transitions-after-warmup”Warning message:\n",
      "“Examine the pairs() plot to diagnose sampling problems\n",
      "”"
     ]
    },
    {
     "name": "stdout",
     "output_type": "stream",
     "text": [
      "Time difference of 2.318783 mins\n"
     ]
    }
   ],
   "source": [
    "# Run the sampler.\n",
    "sampling_time <- Sys.time()\n",
    "sampling_result <- sampling(\n",
    "  model, data=stan_data, iter=iters, chains=1, control=list(adapt_delta=adapt_delta))\n",
    "sampling_time <- Sys.time() - sampling_time\n",
    "print(sampling_time)"
   ]
  },
  {
   "cell_type": "code",
   "execution_count": 5,
   "metadata": {},
   "outputs": [
    {
     "name": "stdout",
     "output_type": "stream",
     "text": [
      "Evaluating sensitivity model at the MCMC draws.\n",
      "  |======================================================================| 100%\n"
     ]
    },
    {
     "name": "stderr",
     "output_type": "stream",
     "text": [
      "Warning message in mcmcse::mcse.multi(arg_draws):\n",
      "“You either need more samples or x is not full column rank”Warning message in mcmcse::mcse.multi(par_draws):\n",
      "“You either need more samples or x is not full column rank”Warning message in mcmcse::mcse.multi(par_draws):\n",
      "“You either need more samples or x is not full column rank”Warning message in log(sig.eigen):\n",
      "“NaNs produced”Warning message in mcmcse::mcse.multi(par_draws):\n",
      "“You either need more samples or x is not full column rank”Warning message in log(sig.eigen):\n",
      "“NaNs produced”"
     ]
    },
    {
     "name": "stdout",
     "output_type": "stream",
     "text": [
      "Time difference of 7.124251 secs\n"
     ]
    }
   ],
   "source": [
    "# Calculate the sensitivity.\n",
    "sens_time <- Sys.time()\n",
    "sens_result <- GetStanSensitivityFromModelFit(sampling_result, stan_sensitivity_list)\n",
    "tidy_results <- GetTidyResult(sens_result)\n",
    "sens_time <- Sys.time() - sens_time\n",
    "print(sens_time)"
   ]
  },
  {
   "cell_type": "code",
   "execution_count": 6,
   "metadata": {},
   "outputs": [
    {
     "data": {},
     "metadata": {},
     "output_type": "display_data"
    },
    {
     "data": {
      "image/png": "[encoded data removed]",
      "text/plain": [
       "plot without title"
      ]
     },
     "metadata": {},
     "output_type": "display_data"
    }
   ],
   "source": [
    "PlotSensitivities(tidy_results)"
   ]
  },
  {
   "cell_type": "code",
   "execution_count": 7,
   "metadata": {
    "collapsed": true
   },
   "outputs": [],
   "source": [
    "# Refit with a range of values for the hyperparameter.\n",
    "StanResultToDataframe <- function(sampling_result) {\n",
    "  sampling_df <- data.frame(summary(sampling_result)$summary)\n",
    "  sampling_df$parameter <- make.names(rownames(sampling_df))\n",
    "  return(sampling_df)\n",
    "}\n",
    "\n",
    "hyperparam_name <- \"mu_a2_scale\"\n",
    "num_refits <- 10\n",
    "hyperparam_min_offset <- -0.8\n",
    "hyperparam_max_offset <- 1.0\n",
    "\n",
    "hyperparam_vals <- seq(stan_data[[hyperparam_name]] + hyperparam_min_offset,\n",
    "                     stan_data[[hyperparam_name]] + hyperparam_max_offset,\n",
    "                     length.out=num_refits)"
   ]
  },
  {
   "cell_type": "code",
   "execution_count": 8,
   "metadata": {
    "scrolled": false
   },
   "outputs": [
    {
     "name": "stdout",
     "output_type": "stream",
     "text": [
      "Value: 0.200000\n",
      "SAMPLING FOR MODEL 'earnings_vary_si_generated' NOW (CHAIN 1).\n",
      "\n",
      "Gradient evaluation took 8.7e-05 seconds\n",
      "1000 transitions using 10 leapfrog steps per transition would take 0.87 seconds.\n",
      "Adjust your expectations accordingly!\n",
      "\n",
      "\n",
      "Iteration:    1 / 10000 [  0%]  (Warmup)\n",
      "Iteration: 1000 / 10000 [ 10%]  (Warmup)\n",
      "Iteration: 2000 / 10000 [ 20%]  (Warmup)\n",
      "Iteration: 3000 / 10000 [ 30%]  (Warmup)\n",
      "Iteration: 4000 / 10000 [ 40%]  (Warmup)\n",
      "Iteration: 5000 / 10000 [ 50%]  (Warmup)\n",
      "Iteration: 5001 / 10000 [ 50%]  (Sampling)\n",
      "Iteration: 6000 / 10000 [ 60%]  (Sampling)\n",
      "Iteration: 7000 / 10000 [ 70%]  (Sampling)\n",
      "Iteration: 8000 / 10000 [ 80%]  (Sampling)\n",
      "Iteration: 9000 / 10000 [ 90%]  (Sampling)\n",
      "Iteration: 10000 / 10000 [100%]  (Sampling)\n",
      "\n",
      " Elapsed Time: 72.1621 seconds (Warm-up)\n",
      "               56.0836 seconds (Sampling)\n",
      "               128.246 seconds (Total)\n",
      "\n"
     ]
    },
    {
     "name": "stderr",
     "output_type": "stream",
     "text": [
      "Warning message:\n",
      "“There were 1 divergent transitions after warmup. Increasing adapt_delta above 0.99 may help. See\n",
      "http://mc-stan.org/misc/warnings.html#divergent-transitions-after-warmup”Warning message:\n",
      "“Examine the pairs() plot to diagnose sampling problems\n",
      "”"
     ]
    },
    {
     "name": "stdout",
     "output_type": "stream",
     "text": [
      "Value: 0.400000\n",
      "SAMPLING FOR MODEL 'earnings_vary_si_generated' NOW (CHAIN 1).\n",
      "\n",
      "Gradient evaluation took 5.8e-05 seconds\n",
      "1000 transitions using 10 leapfrog steps per transition would take 0.58 seconds.\n",
      "Adjust your expectations accordingly!\n",
      "\n",
      "\n",
      "Iteration:    1 / 10000 [  0%]  (Warmup)\n",
      "Iteration: 1000 / 10000 [ 10%]  (Warmup)\n",
      "Iteration: 2000 / 10000 [ 20%]  (Warmup)\n",
      "Iteration: 3000 / 10000 [ 30%]  (Warmup)\n",
      "Iteration: 4000 / 10000 [ 40%]  (Warmup)\n",
      "Iteration: 5000 / 10000 [ 50%]  (Warmup)\n",
      "Iteration: 5001 / 10000 [ 50%]  (Sampling)\n",
      "Iteration: 6000 / 10000 [ 60%]  (Sampling)\n",
      "Iteration: 7000 / 10000 [ 70%]  (Sampling)\n",
      "Iteration: 8000 / 10000 [ 80%]  (Sampling)\n",
      "Iteration: 9000 / 10000 [ 90%]  (Sampling)\n",
      "Iteration: 10000 / 10000 [100%]  (Sampling)\n",
      "\n",
      " Elapsed Time: 68.4278 seconds (Warm-up)\n",
      "               56.0286 seconds (Sampling)\n",
      "               124.456 seconds (Total)\n",
      "\n",
      "Value: 0.600000\n",
      "SAMPLING FOR MODEL 'earnings_vary_si_generated' NOW (CHAIN 1).\n",
      "\n",
      "Gradient evaluation took 5e-05 seconds\n",
      "1000 transitions using 10 leapfrog steps per transition would take 0.5 seconds.\n",
      "Adjust your expectations accordingly!\n",
      "\n",
      "\n",
      "Iteration:    1 / 10000 [  0%]  (Warmup)\n",
      "Iteration: 1000 / 10000 [ 10%]  (Warmup)\n",
      "Iteration: 2000 / 10000 [ 20%]  (Warmup)\n",
      "Iteration: 3000 / 10000 [ 30%]  (Warmup)\n",
      "Iteration: 4000 / 10000 [ 40%]  (Warmup)\n",
      "Iteration: 5000 / 10000 [ 50%]  (Warmup)\n",
      "Iteration: 5001 / 10000 [ 50%]  (Sampling)\n",
      "Iteration: 6000 / 10000 [ 60%]  (Sampling)\n",
      "Iteration: 7000 / 10000 [ 70%]  (Sampling)\n",
      "Iteration: 8000 / 10000 [ 80%]  (Sampling)\n",
      "Iteration: 9000 / 10000 [ 90%]  (Sampling)\n",
      "Iteration: 10000 / 10000 [100%]  (Sampling)\n",
      "\n",
      " Elapsed Time: 69.3186 seconds (Warm-up)\n",
      "               83.2186 seconds (Sampling)\n",
      "               152.537 seconds (Total)\n",
      "\n"
     ]
    },
    {
     "name": "stderr",
     "output_type": "stream",
     "text": [
      "Warning message:\n",
      "“There were 2 divergent transitions after warmup. Increasing adapt_delta above 0.99 may help. See\n",
      "http://mc-stan.org/misc/warnings.html#divergent-transitions-after-warmup”Warning message:\n",
      "“Examine the pairs() plot to diagnose sampling problems\n",
      "”"
     ]
    },
    {
     "name": "stdout",
     "output_type": "stream",
     "text": [
      "Value: 0.800000\n",
      "SAMPLING FOR MODEL 'earnings_vary_si_generated' NOW (CHAIN 1).\n",
      "\n",
      "Gradient evaluation took 4.8e-05 seconds\n",
      "1000 transitions using 10 leapfrog steps per transition would take 0.48 seconds.\n",
      "Adjust your expectations accordingly!\n",
      "\n",
      "\n",
      "Iteration:    1 / 10000 [  0%]  (Warmup)\n",
      "Iteration: 1000 / 10000 [ 10%]  (Warmup)\n",
      "Iteration: 2000 / 10000 [ 20%]  (Warmup)\n",
      "Iteration: 3000 / 10000 [ 30%]  (Warmup)\n",
      "Iteration: 4000 / 10000 [ 40%]  (Warmup)\n",
      "Iteration: 5000 / 10000 [ 50%]  (Warmup)\n",
      "Iteration: 5001 / 10000 [ 50%]  (Sampling)\n",
      "Iteration: 6000 / 10000 [ 60%]  (Sampling)\n",
      "Iteration: 7000 / 10000 [ 70%]  (Sampling)\n",
      "Iteration: 8000 / 10000 [ 80%]  (Sampling)\n",
      "Iteration: 9000 / 10000 [ 90%]  (Sampling)\n",
      "Iteration: 10000 / 10000 [100%]  (Sampling)\n",
      "\n",
      " Elapsed Time: 65.8847 seconds (Warm-up)\n",
      "               56.7012 seconds (Sampling)\n",
      "               122.586 seconds (Total)\n",
      "\n"
     ]
    },
    {
     "name": "stderr",
     "output_type": "stream",
     "text": [
      "Warning message:\n",
      "“There were 2 divergent transitions after warmup. Increasing adapt_delta above 0.99 may help. See\n",
      "http://mc-stan.org/misc/warnings.html#divergent-transitions-after-warmup”Warning message:\n",
      "“Examine the pairs() plot to diagnose sampling problems\n",
      "”"
     ]
    },
    {
     "name": "stdout",
     "output_type": "stream",
     "text": [
      "Value: 1.000000\n",
      "SAMPLING FOR MODEL 'earnings_vary_si_generated' NOW (CHAIN 1).\n",
      "\n",
      "Gradient evaluation took 7.1e-05 seconds\n",
      "1000 transitions using 10 leapfrog steps per transition would take 0.71 seconds.\n",
      "Adjust your expectations accordingly!\n",
      "\n",
      "\n",
      "Iteration:    1 / 10000 [  0%]  (Warmup)\n",
      "Iteration: 1000 / 10000 [ 10%]  (Warmup)\n",
      "Iteration: 2000 / 10000 [ 20%]  (Warmup)\n",
      "Iteration: 3000 / 10000 [ 30%]  (Warmup)\n",
      "Iteration: 4000 / 10000 [ 40%]  (Warmup)\n",
      "Iteration: 5000 / 10000 [ 50%]  (Warmup)\n",
      "Iteration: 5001 / 10000 [ 50%]  (Sampling)\n",
      "Iteration: 6000 / 10000 [ 60%]  (Sampling)\n",
      "Iteration: 7000 / 10000 [ 70%]  (Sampling)\n",
      "Iteration: 8000 / 10000 [ 80%]  (Sampling)\n",
      "Iteration: 9000 / 10000 [ 90%]  (Sampling)\n",
      "Iteration: 10000 / 10000 [100%]  (Sampling)\n",
      "\n",
      " Elapsed Time: 72.3364 seconds (Warm-up)\n",
      "               65.2581 seconds (Sampling)\n",
      "               137.594 seconds (Total)\n",
      "\n"
     ]
    },
    {
     "name": "stderr",
     "output_type": "stream",
     "text": [
      "Warning message:\n",
      "“There were 5 divergent transitions after warmup. Increasing adapt_delta above 0.99 may help. See\n",
      "http://mc-stan.org/misc/warnings.html#divergent-transitions-after-warmup”Warning message:\n",
      "“Examine the pairs() plot to diagnose sampling problems\n",
      "”"
     ]
    },
    {
     "name": "stdout",
     "output_type": "stream",
     "text": [
      "Value: 1.200000\n",
      "SAMPLING FOR MODEL 'earnings_vary_si_generated' NOW (CHAIN 1).\n",
      "\n",
      "Gradient evaluation took 5.1e-05 seconds\n",
      "1000 transitions using 10 leapfrog steps per transition would take 0.51 seconds.\n",
      "Adjust your expectations accordingly!\n",
      "\n",
      "\n",
      "Iteration:    1 / 10000 [  0%]  (Warmup)\n",
      "Iteration: 1000 / 10000 [ 10%]  (Warmup)\n",
      "Iteration: 2000 / 10000 [ 20%]  (Warmup)\n",
      "Iteration: 3000 / 10000 [ 30%]  (Warmup)\n",
      "Iteration: 4000 / 10000 [ 40%]  (Warmup)\n",
      "Iteration: 5000 / 10000 [ 50%]  (Warmup)\n",
      "Iteration: 5001 / 10000 [ 50%]  (Sampling)\n",
      "Iteration: 6000 / 10000 [ 60%]  (Sampling)\n",
      "Iteration: 7000 / 10000 [ 70%]  (Sampling)\n",
      "Iteration: 8000 / 10000 [ 80%]  (Sampling)\n",
      "Iteration: 9000 / 10000 [ 90%]  (Sampling)\n",
      "Iteration: 10000 / 10000 [100%]  (Sampling)\n",
      "\n",
      " Elapsed Time: 66.2975 seconds (Warm-up)\n",
      "               85.4392 seconds (Sampling)\n",
      "               151.737 seconds (Total)\n",
      "\n"
     ]
    },
    {
     "name": "stderr",
     "output_type": "stream",
     "text": [
      "Warning message:\n",
      "“There were 3 divergent transitions after warmup. Increasing adapt_delta above 0.99 may help. See\n",
      "http://mc-stan.org/misc/warnings.html#divergent-transitions-after-warmup”Warning message:\n",
      "“There were 2 transitions after warmup that exceeded the maximum treedepth. Increase max_treedepth above 10. See\n",
      "http://mc-stan.org/misc/warnings.html#maximum-treedepth-exceeded”Warning message:\n",
      "“Examine the pairs() plot to diagnose sampling problems\n",
      "”"
     ]
    },
    {
     "name": "stdout",
     "output_type": "stream",
     "text": [
      "Value: 1.400000\n",
      "SAMPLING FOR MODEL 'earnings_vary_si_generated' NOW (CHAIN 1).\n",
      "\n",
      "Gradient evaluation took 5.2e-05 seconds\n",
      "1000 transitions using 10 leapfrog steps per transition would take 0.52 seconds.\n",
      "Adjust your expectations accordingly!\n",
      "\n",
      "\n",
      "Iteration:    1 / 10000 [  0%]  (Warmup)\n",
      "Iteration: 1000 / 10000 [ 10%]  (Warmup)\n",
      "Iteration: 2000 / 10000 [ 20%]  (Warmup)\n",
      "Iteration: 3000 / 10000 [ 30%]  (Warmup)\n",
      "Iteration: 4000 / 10000 [ 40%]  (Warmup)\n",
      "Iteration: 5000 / 10000 [ 50%]  (Warmup)\n",
      "Iteration: 5001 / 10000 [ 50%]  (Sampling)\n",
      "Iteration: 6000 / 10000 [ 60%]  (Sampling)\n",
      "Iteration: 7000 / 10000 [ 70%]  (Sampling)\n",
      "Iteration: 8000 / 10000 [ 80%]  (Sampling)\n",
      "Iteration: 9000 / 10000 [ 90%]  (Sampling)\n",
      "Iteration: 10000 / 10000 [100%]  (Sampling)\n",
      "\n",
      " Elapsed Time: 72.2785 seconds (Warm-up)\n",
      "               151.341 seconds (Sampling)\n",
      "               223.619 seconds (Total)\n",
      "\n"
     ]
    },
    {
     "name": "stderr",
     "output_type": "stream",
     "text": [
      "Warning message:\n",
      "“There were 7 divergent transitions after warmup. Increasing adapt_delta above 0.99 may help. See\n",
      "http://mc-stan.org/misc/warnings.html#divergent-transitions-after-warmup”Warning message:\n",
      "“There were 897 transitions after warmup that exceeded the maximum treedepth. Increase max_treedepth above 10. See\n",
      "http://mc-stan.org/misc/warnings.html#maximum-treedepth-exceeded”Warning message:\n",
      "“Examine the pairs() plot to diagnose sampling problems\n",
      "”"
     ]
    },
    {
     "name": "stdout",
     "output_type": "stream",
     "text": [
      "Value: 1.600000\n",
      "SAMPLING FOR MODEL 'earnings_vary_si_generated' NOW (CHAIN 1).\n",
      "\n",
      "Gradient evaluation took 7.3e-05 seconds\n",
      "1000 transitions using 10 leapfrog steps per transition would take 0.73 seconds.\n",
      "Adjust your expectations accordingly!\n",
      "\n",
      "\n",
      "Iteration:    1 / 10000 [  0%]  (Warmup)\n",
      "Iteration: 1000 / 10000 [ 10%]  (Warmup)\n",
      "Iteration: 2000 / 10000 [ 20%]  (Warmup)\n",
      "Iteration: 3000 / 10000 [ 30%]  (Warmup)\n",
      "Iteration: 4000 / 10000 [ 40%]  (Warmup)\n",
      "Iteration: 5000 / 10000 [ 50%]  (Warmup)\n",
      "Iteration: 5001 / 10000 [ 50%]  (Sampling)\n",
      "Iteration: 6000 / 10000 [ 60%]  (Sampling)\n",
      "Iteration: 7000 / 10000 [ 70%]  (Sampling)\n",
      "Iteration: 8000 / 10000 [ 80%]  (Sampling)\n",
      "Iteration: 9000 / 10000 [ 90%]  (Sampling)\n",
      "Iteration: 10000 / 10000 [100%]  (Sampling)\n",
      "\n",
      " Elapsed Time: 78.9537 seconds (Warm-up)\n",
      "               174.268 seconds (Sampling)\n",
      "               253.222 seconds (Total)\n",
      "\n"
     ]
    },
    {
     "name": "stderr",
     "output_type": "stream",
     "text": [
      "Warning message:\n",
      "“There were 16 divergent transitions after warmup. Increasing adapt_delta above 0.99 may help. See\n",
      "http://mc-stan.org/misc/warnings.html#divergent-transitions-after-warmup”Warning message:\n",
      "“There were 1673 transitions after warmup that exceeded the maximum treedepth. Increase max_treedepth above 10. See\n",
      "http://mc-stan.org/misc/warnings.html#maximum-treedepth-exceeded”Warning message:\n",
      "“Examine the pairs() plot to diagnose sampling problems\n",
      "”"
     ]
    },
    {
     "name": "stdout",
     "output_type": "stream",
     "text": [
      "Value: 1.800000\n",
      "SAMPLING FOR MODEL 'earnings_vary_si_generated' NOW (CHAIN 1).\n",
      "\n",
      "Gradient evaluation took 6.9e-05 seconds\n",
      "1000 transitions using 10 leapfrog steps per transition would take 0.69 seconds.\n",
      "Adjust your expectations accordingly!\n",
      "\n",
      "\n",
      "Iteration:    1 / 10000 [  0%]  (Warmup)\n",
      "Iteration: 1000 / 10000 [ 10%]  (Warmup)\n",
      "Iteration: 2000 / 10000 [ 20%]  (Warmup)\n",
      "Iteration: 3000 / 10000 [ 30%]  (Warmup)\n",
      "Iteration: 4000 / 10000 [ 40%]  (Warmup)\n",
      "Iteration: 5000 / 10000 [ 50%]  (Warmup)\n",
      "Iteration: 5001 / 10000 [ 50%]  (Sampling)\n",
      "Iteration: 6000 / 10000 [ 60%]  (Sampling)\n",
      "Iteration: 7000 / 10000 [ 70%]  (Sampling)\n",
      "Iteration: 8000 / 10000 [ 80%]  (Sampling)\n",
      "Iteration: 9000 / 10000 [ 90%]  (Sampling)\n",
      "Iteration: 10000 / 10000 [100%]  (Sampling)\n",
      "\n",
      " Elapsed Time: 98.3624 seconds (Warm-up)\n",
      "               58.5343 seconds (Sampling)\n",
      "               156.897 seconds (Total)\n",
      "\n"
     ]
    },
    {
     "name": "stderr",
     "output_type": "stream",
     "text": [
      "Warning message:\n",
      "“There were 59 divergent transitions after warmup. Increasing adapt_delta above 0.99 may help. See\n",
      "http://mc-stan.org/misc/warnings.html#divergent-transitions-after-warmup”Warning message:\n",
      "“Examine the pairs() plot to diagnose sampling problems\n",
      "”"
     ]
    },
    {
     "name": "stdout",
     "output_type": "stream",
     "text": [
      "Value: 2.000000\n",
      "SAMPLING FOR MODEL 'earnings_vary_si_generated' NOW (CHAIN 1).\n",
      "\n",
      "Gradient evaluation took 5.4e-05 seconds\n",
      "1000 transitions using 10 leapfrog steps per transition would take 0.54 seconds.\n",
      "Adjust your expectations accordingly!\n",
      "\n",
      "\n",
      "Iteration:    1 / 10000 [  0%]  (Warmup)\n",
      "Iteration: 1000 / 10000 [ 10%]  (Warmup)\n",
      "Iteration: 2000 / 10000 [ 20%]  (Warmup)\n",
      "Iteration: 3000 / 10000 [ 30%]  (Warmup)\n",
      "Iteration: 4000 / 10000 [ 40%]  (Warmup)\n",
      "Iteration: 5000 / 10000 [ 50%]  (Warmup)\n",
      "Iteration: 5001 / 10000 [ 50%]  (Sampling)\n",
      "Iteration: 6000 / 10000 [ 60%]  (Sampling)\n",
      "Iteration: 7000 / 10000 [ 70%]  (Sampling)\n",
      "Iteration: 8000 / 10000 [ 80%]  (Sampling)\n",
      "Iteration: 9000 / 10000 [ 90%]  (Sampling)\n",
      "Iteration: 10000 / 10000 [100%]  (Sampling)\n",
      "\n",
      " Elapsed Time: 95.4756 seconds (Warm-up)\n",
      "               57.723 seconds (Sampling)\n",
      "               153.199 seconds (Total)\n",
      "\n"
     ]
    },
    {
     "name": "stderr",
     "output_type": "stream",
     "text": [
      "Warning message:\n",
      "“There were 67 divergent transitions after warmup. Increasing adapt_delta above 0.99 may help. See\n",
      "http://mc-stan.org/misc/warnings.html#divergent-transitions-after-warmup”Warning message:\n",
      "“There were 1 transitions after warmup that exceeded the maximum treedepth. Increase max_treedepth above 10. See\n",
      "http://mc-stan.org/misc/warnings.html#maximum-treedepth-exceeded”Warning message:\n",
      "“There were 1 chains where the estimated Bayesian Fraction of Missing Information was low. See\n",
      "http://mc-stan.org/misc/warnings.html#bfmi-low”Warning message:\n",
      "“Examine the pairs() plot to diagnose sampling problems\n",
      "”"
     ]
    }
   ],
   "source": [
    "summary_list <- list()\n",
    "sampling_result_list <- list()\n",
    "refit_time <- Sys.time()\n",
    "for (val in hyperparam_vals) {\n",
    "    cat(sprintf(\"Value: %f\", val))\n",
    "    stan_data_perturbed <- stan_data\n",
    "    stan_data_perturbed[[hyperparam_name]] <- val\n",
    "    sampling_result_perturbed <-\n",
    "      sampling(model, data=stan_data_perturbed, iter=iters, chains=1,\n",
    "               control=list(adapt_delta=adapt_delta))\n",
    "    sampling_result_list[[length(sampling_result_list) + 1]] <- sampling_result_perturbed\n",
    "    sens_summary_peturbed <-\n",
    "      StanResultToDataframe(sampling_result_perturbed) %>%\n",
    "      mutate(hyperparameter=hyperparam_name, hyperparameter_val=val)\n",
    "    summary_list[[length(summary_list) + 1]] <- sens_summary_peturbed\n",
    "}\n",
    "refit_time <- Sys.time() - refit_time\n",
    "\n"
   ]
  },
  {
   "cell_type": "code",
   "execution_count": 17,
   "metadata": {},
   "outputs": [
    {
     "name": "stdout",
     "output_type": "stream",
     "text": [
      "[1] \"Refit time: \"\n",
      "Time difference of 26.74969 mins\n"
     ]
    }
   ],
   "source": [
    "print(\"Refit time: \")\n",
    "print(refit_time)"
   ]
  },
  {
   "cell_type": "code",
   "execution_count": 9,
   "metadata": {},
   "outputs": [
    {
     "name": "stderr",
     "output_type": "stream",
     "text": [
      "Warning message:\n",
      "“Column `parameter` joining character vector and factor, coercing into character vector”"
     ]
    }
   ],
   "source": [
    "perturbed_df <-\n",
    "    do.call(rbind, summary_list) %>%\n",
    "    inner_join(tidy_results, by=c(\"parameter\", \"hyperparameter\")) %>%\n",
    "    inner_join(StanResultToDataframe(sampling_result),\n",
    "               by=\"parameter\", suffix=c(\"\", \".orig\"))"
   ]
  },
  {
   "cell_type": "code",
   "execution_count": 13,
   "metadata": {},
   "outputs": [
    {
     "name": "stdout",
     "output_type": "stream",
     "text": [
      "Saving to\n",
      " /home/rgiordan/Documents/git_repos/StanSensitivitySandbox/examples/earnings_vary_si/earnings_vary_si_refit_results.Rdata \n"
     ]
    }
   ],
   "source": [
    "refit_filename <- file.path(example_path, \"earnings_vary_si_refit_results.Rdata\")\n",
    "cat(\"Saving to\\n\", refit_filename, \"\\n\")\n",
    "save(model_name, tidy_results, stan_data,\n",
    "     perturbed_df, summary_list, sampling_result, sampling_result_list,\n",
    "     sampling_time, sens_time, refit_time,\n",
    "     hyperparam_name, hyperparam_vals,\n",
    "     file=refit_filename)"
   ]
  }
 ],
 "metadata": {
  "kernelspec": {
   "display_name": "R",
   "language": "R",
   "name": "ir"
  },
  "language_info": {
   "codemirror_mode": "r",
   "file_extension": ".r",
   "mimetype": "text/x-r-source",
   "name": "R",
   "pygments_lexer": "r",
   "version": "3.4.3"
  }
 },
 "nbformat": 4,
 "nbformat_minor": 2
}
